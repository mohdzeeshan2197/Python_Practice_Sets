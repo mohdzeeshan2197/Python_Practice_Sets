{
 "cells": [
  {
   "cell_type": "markdown",
   "id": "cfb53e8e",
   "metadata": {},
   "source": [
    "# Q1. Create a dictionary called fruits with the following key-value pairs:\n"
   ]
  },
  {
   "cell_type": "markdown",
   "id": "1c8947fa",
   "metadata": {},
   "source": [
    "\"apple\": 0.75\n",
    "\"banana\": 1.25\n",
    "\"orange\": 0.90\n",
    "Then, print out the price of a banana."
   ]
  },
  {
   "cell_type": "code",
   "execution_count": 1,
   "id": "d4bd5655",
   "metadata": {},
   "outputs": [],
   "source": [
    "d = {'apple': 0.75, 'banana': 1.25,'orange': 0.90}"
   ]
  },
  {
   "cell_type": "code",
   "execution_count": 2,
   "id": "5819f8b5",
   "metadata": {},
   "outputs": [
    {
     "data": {
      "text/plain": [
       "{'apple': 0.75, 'banana': 1.25, 'orange': 0.9}"
      ]
     },
     "execution_count": 2,
     "metadata": {},
     "output_type": "execute_result"
    }
   ],
   "source": [
    "d"
   ]
  },
  {
   "cell_type": "code",
   "execution_count": 3,
   "id": "0df320c6",
   "metadata": {},
   "outputs": [
    {
     "data": {
      "text/plain": [
       "dict"
      ]
     },
     "execution_count": 3,
     "metadata": {},
     "output_type": "execute_result"
    }
   ],
   "source": [
    "type(d)"
   ]
  },
  {
   "cell_type": "code",
   "execution_count": 4,
   "id": "32ae8062",
   "metadata": {},
   "outputs": [
    {
     "name": "stdout",
     "output_type": "stream",
     "text": [
      "1.25\n"
     ]
    }
   ],
   "source": [
    "print(d['banana'])"
   ]
  },
  {
   "cell_type": "markdown",
   "id": "cb28514f",
   "metadata": {},
   "source": [
    "# Q2. Create an empty dictionary called ages. Add the following key-value pairs to the dictionary:"
   ]
  },
  {
   "cell_type": "markdown",
   "id": "fca3c1e9",
   "metadata": {},
   "source": [
    "\"Alice\": 30\n",
    "\"Bob\": 25\n",
    "\"Charlie\": 35\n",
    "Then, print out the age of Charlie."
   ]
  },
  {
   "cell_type": "code",
   "execution_count": 4,
   "id": "83a4f8ca",
   "metadata": {},
   "outputs": [],
   "source": [
    "empty_d = {}"
   ]
  },
  {
   "cell_type": "code",
   "execution_count": 5,
   "id": "9c5f60bf",
   "metadata": {},
   "outputs": [
    {
     "data": {
      "text/plain": [
       "dict"
      ]
     },
     "execution_count": 5,
     "metadata": {},
     "output_type": "execute_result"
    }
   ],
   "source": [
    "type(empty_d)"
   ]
  },
  {
   "cell_type": "code",
   "execution_count": 6,
   "id": "20cb5cfb",
   "metadata": {},
   "outputs": [],
   "source": [
    "add_d = {\"Alice\": 30,\n",
    "        \"Bob\": 25,\n",
    "\"Charlie\": 35}"
   ]
  },
  {
   "cell_type": "code",
   "execution_count": 7,
   "id": "4621cab6",
   "metadata": {},
   "outputs": [],
   "source": [
    "empty_d.update(add_d)"
   ]
  },
  {
   "cell_type": "code",
   "execution_count": 8,
   "id": "8e330be3",
   "metadata": {},
   "outputs": [
    {
     "data": {
      "text/plain": [
       "{'Alice': 30, 'Bob': 25, 'Charlie': 35}"
      ]
     },
     "execution_count": 8,
     "metadata": {},
     "output_type": "execute_result"
    }
   ],
   "source": [
    "empty_d"
   ]
  },
  {
   "cell_type": "markdown",
   "id": "904a105f",
   "metadata": {},
   "source": [
    "# Q3. Write a function called word_count(text) that takes a string as input and returns a dictionary where each key is a word in the text and its value is the number of times that word appears in the text. For example, word_count(\"hello world hello\") should return {\"hello\": 2, \"world\": 1}."
   ]
  },
  {
   "cell_type": "code",
   "execution_count": 9,
   "id": "4147fb05",
   "metadata": {},
   "outputs": [],
   "source": [
    "from collections import Counter"
   ]
  },
  {
   "cell_type": "code",
   "execution_count": 28,
   "id": "618e1ce9",
   "metadata": {},
   "outputs": [],
   "source": [
    "def word_count(text):\n",
    "    return Counter(text.split())    "
   ]
  },
  {
   "cell_type": "code",
   "execution_count": 31,
   "id": "84ab4845",
   "metadata": {},
   "outputs": [
    {
     "data": {
      "text/plain": [
       "Counter({'hello': 2, 'world': 1})"
      ]
     },
     "execution_count": 31,
     "metadata": {},
     "output_type": "execute_result"
    }
   ],
   "source": [
    "word_count(\"hello world hello\")"
   ]
  },
  {
   "cell_type": "markdown",
   "id": "1c08aa9d",
   "metadata": {},
   "source": [
    "# Q4. Create a dictionary called phone_book with the following key-value pairs:"
   ]
  },
  {
   "cell_type": "markdown",
   "id": "77861555",
   "metadata": {},
   "source": [
    "\"Alice\": \"555-1234\"\n",
    "\"Bob\": \"555-5678\"\n",
    "\"Charlie\": \"555-9012\"\n",
    "    \n",
    "Then, prompt the user to enter a name and print out the corresponding phone number. If the name is not\n",
    "in the phone book, print out a message saying that the name was not found."
   ]
  },
  {
   "cell_type": "code",
   "execution_count": 12,
   "id": "5949afee",
   "metadata": {},
   "outputs": [],
   "source": [
    "phone_book = {\"Alice\": \"555-1234\", \"Bob\": \"555-5678\", \"Charlie\": \"555-9012\"}"
   ]
  },
  {
   "cell_type": "code",
   "execution_count": 13,
   "id": "b7f4cab2",
   "metadata": {},
   "outputs": [
    {
     "data": {
      "text/plain": [
       "{'Alice': '555-1234', 'Bob': '555-5678', 'Charlie': '555-9012'}"
      ]
     },
     "execution_count": 13,
     "metadata": {},
     "output_type": "execute_result"
    }
   ],
   "source": [
    "phone_book"
   ]
  },
  {
   "cell_type": "code",
   "execution_count": 19,
   "id": "22f9a262",
   "metadata": {},
   "outputs": [
    {
     "name": "stdout",
     "output_type": "stream",
     "text": [
      "Enter a Name: Alice\n",
      "Phone Number of Alice is 555-1234\n"
     ]
    }
   ],
   "source": [
    "name = input(\"Enter a Name: \")\n",
    "\n",
    "if name in phone_book:\n",
    "    print(f\"Phone Number of {name} is {phone_book[name]}\")\n",
    "else:\n",
    "    print(f\"{name} was Not Found\")\n",
    "\n"
   ]
  },
  {
   "cell_type": "markdown",
   "id": "813e8636",
   "metadata": {},
   "source": [
    "# Q5. Write a program that prompts the user to enter a number between 1 and 10. If the number is less than 5, print out \"Too low!\", otherwise print out \"Too high!\"."
   ]
  },
  {
   "cell_type": "code",
   "execution_count": 44,
   "id": "2c835222",
   "metadata": {},
   "outputs": [
    {
     "name": "stdout",
     "output_type": "stream",
     "text": [
      "Enter a Number: 3\n",
      "\"Too low\"\n"
     ]
    }
   ],
   "source": [
    "n = int(input(\"Enter a Number: \"))\n",
    "\n",
    "if n < 5 :\n",
    "    print('''\"Too low\"''')\n",
    "    \n",
    "else:\n",
    "    print('''\"Too high\"''')"
   ]
  },
  {
   "cell_type": "markdown",
   "id": "359f988f",
   "metadata": {},
   "source": [
    "# Q6. Write a program that prompts the user to enter a password. If the password is \"password123\", print out \"Access granted\", otherwise print out \"Access denied\"."
   ]
  },
  {
   "cell_type": "code",
   "execution_count": 48,
   "id": "072819f6",
   "metadata": {},
   "outputs": [
    {
     "name": "stdout",
     "output_type": "stream",
     "text": [
      "Enter Password: password123\n",
      "Access granted\n"
     ]
    }
   ],
   "source": [
    "pswd = input(\"Enter Password: \")\n",
    "\n",
    "if pswd == \"password123\":\n",
    "    print(\"Access granted\")\n",
    "\n",
    "    \n",
    "else:\n",
    "    \n",
    "    print(\"Access denied\")\n",
    "\n"
   ]
  },
  {
   "cell_type": "markdown",
   "id": "97d1b0d6",
   "metadata": {},
   "source": [
    "# Q7. Write a program that prompts the user to enter a positive integer. Then, use a loop to print out all the odd numbers from 1 to that integer."
   ]
  },
  {
   "cell_type": "code",
   "execution_count": 50,
   "id": "dcf8a281",
   "metadata": {},
   "outputs": [
    {
     "name": "stdout",
     "output_type": "stream",
     "text": [
      "Enter a Positive Number: 10\n",
      "1\n",
      "3\n",
      "5\n",
      "7\n",
      "9\n"
     ]
    }
   ],
   "source": [
    "n = int(input(\"Enter a Positive Number: \"))\n",
    "\n",
    "if n > 0 :\n",
    "    \n",
    "    for i in range(1, n):\n",
    "        if i %2 != 0 :\n",
    "            print(i)\n",
    "            \n",
    "else :\n",
    "    print(\"Enter a Valid/Positive Number Please\")\n",
    "    "
   ]
  },
  {
   "cell_type": "markdown",
   "id": "11149d66",
   "metadata": {},
   "source": [
    "# Q8. Write a program that generates a random number between 1 and 100 and then prompts the user to guess the number. If the user's guess is too low, print out \"Too low!\", if the guess is too high, print out \"Too high!\", and if the guess is correct, print out \"You win!\"."
   ]
  },
  {
   "cell_type": "code",
   "execution_count": 24,
   "id": "70fd6c6a",
   "metadata": {},
   "outputs": [],
   "source": [
    "import random"
   ]
  },
  {
   "cell_type": "code",
   "execution_count": 26,
   "id": "a1a4adda",
   "metadata": {},
   "outputs": [
    {
     "name": "stdout",
     "output_type": "stream",
     "text": [
      "Enter a Number: 5\n",
      "Too low\n"
     ]
    }
   ],
   "source": [
    "rn = random.randint(1,100)\n",
    "\n",
    "n = int(input(\"Enter a Number: \"))\n",
    "\n",
    "if n < rn :\n",
    "    print(\"Too low\")\n",
    "\n",
    "elif n > rn :\n",
    "    print(\"Too high\")\n",
    "\n",
    "elif n == rn :\n",
    "    print(\"You Win\")\n",
    "    \n",
    "    \n"
   ]
  },
  {
   "cell_type": "markdown",
   "id": "4b5481ae",
   "metadata": {},
   "source": [
    "# Q9. Write a program that generates a random number between 1 and 10 and then prompts the user to guess the number. The user has three attempts to guess the number. If the user guesses correctly within three attempts, print out \"You win!\", otherwise print out \"You lose!\"."
   ]
  },
  {
   "cell_type": "code",
   "execution_count": 40,
   "id": "8423a936",
   "metadata": {},
   "outputs": [
    {
     "name": "stdout",
     "output_type": "stream",
     "text": [
      "Guess Number Between  1 - 10: 5\n",
      "You Win\n"
     ]
    }
   ],
   "source": [
    "import random \n",
    "\n",
    "rn = random.randint(1,10)\n",
    "\n",
    "attempt = 3\n",
    "while attempt > 0 :\n",
    "    n = int(input(\"Guess Number Between  1 - 10: \"))\n",
    "    if n == rn :\n",
    "        print(\"You Win\")\n",
    "        break\n",
    "    elif n < rn:\n",
    "        print(\"Too low\")\n",
    "    else:\n",
    "        print(\"Too high\")\n",
    "    \n",
    "    attempt -= 1\n",
    "    \n",
    "if attempt == 0:\n",
    "        print(\"You Loose\")\n",
    "\n"
   ]
  },
  {
   "cell_type": "markdown",
   "id": "2a0a7d2f",
   "metadata": {},
   "source": [
    "# Q10. Write a program that prompts the user to enter their age and then prints out whether they are a child (age 0-12), a teenager (age 13-19), an adult (age 20-59), or a senior (age 60+)"
   ]
  },
  {
   "cell_type": "code",
   "execution_count": 8,
   "id": "a36d8a72",
   "metadata": {},
   "outputs": [
    {
     "name": "stdout",
     "output_type": "stream",
     "text": [
      "Enter Age: 19\n",
      "teenager\n"
     ]
    }
   ],
   "source": [
    "age = int(input(\"Enter Age: \"))\n",
    "\n",
    "if age < 0 :\n",
    "    print(\"Enter a Valid Age\")\n",
    "elif age > 0 and age <= 12:\n",
    "    print(\"Child\")\n",
    "elif age >13 and age <= 19:\n",
    "    print(\"teenager\")\n",
    "elif age > 20 and age <= 59:\n",
    "    print(\"Adult\")\n",
    "else :\n",
    "    print(\"Senior\")\n"
   ]
  }
 ],
 "metadata": {
  "kernelspec": {
   "display_name": "Python 3 (ipykernel)",
   "language": "python",
   "name": "python3"
  },
  "language_info": {
   "codemirror_mode": {
    "name": "ipython",
    "version": 3
   },
   "file_extension": ".py",
   "mimetype": "text/x-python",
   "name": "python",
   "nbconvert_exporter": "python",
   "pygments_lexer": "ipython3",
   "version": "3.9.16"
  }
 },
 "nbformat": 4,
 "nbformat_minor": 5
}
