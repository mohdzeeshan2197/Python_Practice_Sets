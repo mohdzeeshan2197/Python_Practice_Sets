{
 "cells": [
  {
   "cell_type": "markdown",
   "id": "fd3fb83c",
   "metadata": {},
   "source": [
    "**Q1. Create a list in python using the followings: 2,3,4,5,6,7 with variable ‘a’\n",
    "Add ‘mango to the above list\n",
    "Also add banana, grapes & orange in the list\n",
    "insert apple in the 5th position of a variable ‘a’\n",
    "Remove last item from the list**"
   ]
  },
  {
   "cell_type": "code",
   "execution_count": 2,
   "id": "8e164262",
   "metadata": {},
   "outputs": [],
   "source": [
    "a = [2,3,4,5,6,7]"
   ]
  },
  {
   "cell_type": "code",
   "execution_count": 12,
   "id": "685e44a8",
   "metadata": {},
   "outputs": [],
   "source": [
    "a.append('mango')"
   ]
  },
  {
   "cell_type": "code",
   "execution_count": 13,
   "id": "a33284ef",
   "metadata": {},
   "outputs": [],
   "source": [
    "a.append('banana')"
   ]
  },
  {
   "cell_type": "code",
   "execution_count": 15,
   "id": "41040ca5",
   "metadata": {},
   "outputs": [],
   "source": [
    "a.append('grapes')"
   ]
  },
  {
   "cell_type": "code",
   "execution_count": 16,
   "id": "486de51d",
   "metadata": {},
   "outputs": [],
   "source": [
    "a.append('orange')"
   ]
  },
  {
   "cell_type": "code",
   "execution_count": 18,
   "id": "feab531e",
   "metadata": {},
   "outputs": [],
   "source": [
    "a[5] = 'apple'"
   ]
  },
  {
   "cell_type": "code",
   "execution_count": 19,
   "id": "d30fb5e4",
   "metadata": {},
   "outputs": [
    {
     "data": {
      "text/plain": [
       "[2, 3, 4, 5, 6, 'apple', 'mango', 'mango', 'banana', 'grapes', 'orange']"
      ]
     },
     "execution_count": 19,
     "metadata": {},
     "output_type": "execute_result"
    }
   ],
   "source": [
    "a"
   ]
  },
  {
   "cell_type": "code",
   "execution_count": 20,
   "id": "4a6c609d",
   "metadata": {},
   "outputs": [
    {
     "data": {
      "text/plain": [
       "'orange'"
      ]
     },
     "execution_count": 20,
     "metadata": {},
     "output_type": "execute_result"
    }
   ],
   "source": [
    "a.pop()"
   ]
  },
  {
   "cell_type": "code",
   "execution_count": 21,
   "id": "2ee46214",
   "metadata": {},
   "outputs": [
    {
     "data": {
      "text/plain": [
       "[2, 3, 4, 5, 6, 'apple', 'mango', 'mango', 'banana', 'grapes']"
      ]
     },
     "execution_count": 21,
     "metadata": {},
     "output_type": "execute_result"
    }
   ],
   "source": [
    "a"
   ]
  },
  {
   "cell_type": "markdown",
   "id": "73bd3bd1",
   "metadata": {},
   "source": [
    "Q2.\n",
    "L = [1,2,3,4,5,6,7]\n",
    "Using the above list slice from 1:4"
   ]
  },
  {
   "cell_type": "code",
   "execution_count": 22,
   "id": "9b9ec99e",
   "metadata": {},
   "outputs": [],
   "source": [
    "L = [ 1,2,3,4,5,6,7]"
   ]
  },
  {
   "cell_type": "code",
   "execution_count": 23,
   "id": "d9257a95",
   "metadata": {},
   "outputs": [
    {
     "data": {
      "text/plain": [
       "[2, 3, 4]"
      ]
     },
     "execution_count": 23,
     "metadata": {},
     "output_type": "execute_result"
    }
   ],
   "source": [
    "L[1:4]"
   ]
  },
  {
   "cell_type": "markdown",
   "id": "cbf40333",
   "metadata": {},
   "source": [
    "**Q3. Reverse the order of given string L = [4,5,6,8,3] Without using reverse() function.**"
   ]
  },
  {
   "cell_type": "code",
   "execution_count": 24,
   "id": "cd6a90a8",
   "metadata": {},
   "outputs": [],
   "source": [
    "L= [4,5,6,8,3]"
   ]
  },
  {
   "cell_type": "code",
   "execution_count": 26,
   "id": "c1bf2577",
   "metadata": {},
   "outputs": [
    {
     "data": {
      "text/plain": [
       "[3, 8, 6, 5, 4]"
      ]
     },
     "execution_count": 26,
     "metadata": {},
     "output_type": "execute_result"
    }
   ],
   "source": [
    "L[::-1]"
   ]
  },
  {
   "cell_type": "markdown",
   "id": "4e396546",
   "metadata": {},
   "source": [
    "**Q4. Use list comprehension to square the given list L=[2,4,7,3,6,8]**"
   ]
  },
  {
   "cell_type": "code",
   "execution_count": 41,
   "id": "3c2b35fd",
   "metadata": {},
   "outputs": [
    {
     "data": {
      "text/plain": [
       "[4, 9, 49, 9, 36, 64]"
      ]
     },
     "execution_count": 41,
     "metadata": {},
     "output_type": "execute_result"
    }
   ],
   "source": [
    "L = [2,3,7,3,6,8]\n",
    "\n",
    "[i**2 for i in L]"
   ]
  },
  {
   "cell_type": "markdown",
   "id": "fa9c68f2",
   "metadata": {},
   "source": [
    "**Q5. Create a function that takes in a tuple of integers and returns the sum of the integers. Test the\n",
    "function with a tuple of your choice.**"
   ]
  },
  {
   "cell_type": "code",
   "execution_count": 42,
   "id": "f948e50a",
   "metadata": {},
   "outputs": [],
   "source": [
    "t = (2,4,6,7,4,8,2)"
   ]
  },
  {
   "cell_type": "code",
   "execution_count": 46,
   "id": "494e4789",
   "metadata": {},
   "outputs": [],
   "source": [
    "def sum_tuple(t):\n",
    "    sum = 0\n",
    "    for i in t:\n",
    "        sum += i\n",
    "    print(sum)"
   ]
  },
  {
   "cell_type": "code",
   "execution_count": 47,
   "id": "dc4d822b",
   "metadata": {},
   "outputs": [
    {
     "name": "stdout",
     "output_type": "stream",
     "text": [
      "33\n"
     ]
    }
   ],
   "source": [
    "sum_tuple(t)"
   ]
  },
  {
   "cell_type": "markdown",
   "id": "7acda58a",
   "metadata": {},
   "source": [
    "**Q6. Create two sets of your favourite fruits, and use the union() method to combine them into a single set.\n",
    "Print the resulting set to the console.**"
   ]
  },
  {
   "cell_type": "code",
   "execution_count": 56,
   "id": "873957c7",
   "metadata": {},
   "outputs": [],
   "source": [
    "fruits_set1 = {'Apple', 'Mango','Banana','orange'}\n",
    "fruits_set2 = {'Grapes', 'Pineapple','Kiwi','Mango','Orange'}"
   ]
  },
  {
   "cell_type": "code",
   "execution_count": 57,
   "id": "9f723ebb",
   "metadata": {},
   "outputs": [
    {
     "data": {
      "text/plain": [
       "{'Apple', 'Banana', 'Grapes', 'Kiwi', 'Mango', 'Orange', 'Pineapple', 'orange'}"
      ]
     },
     "execution_count": 57,
     "metadata": {},
     "output_type": "execute_result"
    }
   ],
   "source": [
    "fruits_set1.union(fruits_set2)"
   ]
  },
  {
   "cell_type": "markdown",
   "id": "add3954d",
   "metadata": {},
   "source": [
    "**Q7. Create a set of random words, and use the add() method to add a new word to the set. Print the\n",
    "resulting set to the console.**"
   ]
  },
  {
   "cell_type": "code",
   "execution_count": 62,
   "id": "ceba84f2",
   "metadata": {},
   "outputs": [],
   "source": [
    "random_set = {'Hello', 'Sudhanshu', 'Greeting'}"
   ]
  },
  {
   "cell_type": "code",
   "execution_count": 65,
   "id": "34275bc8",
   "metadata": {},
   "outputs": [],
   "source": [
    "random_set.add('This_is_me')"
   ]
  },
  {
   "cell_type": "code",
   "execution_count": 66,
   "id": "13244af6",
   "metadata": {},
   "outputs": [
    {
     "data": {
      "text/plain": [
       "{'Greeting', 'Hello', 'Sudhanshu', 'This_is_me'}"
      ]
     },
     "execution_count": 66,
     "metadata": {},
     "output_type": "execute_result"
    }
   ],
   "source": [
    "random_set"
   ]
  },
  {
   "cell_type": "markdown",
   "id": "62354908",
   "metadata": {},
   "source": [
    "**Q8. Create a set of your favourite animals, and use the remove() method to remove one animal from the\n",
    "set. Print the resulting set to the console.**"
   ]
  },
  {
   "cell_type": "code",
   "execution_count": 67,
   "id": "532a9406",
   "metadata": {},
   "outputs": [],
   "source": [
    "animals = {'Tiger', 'Lion','Elephant','Dog','Cat'}"
   ]
  },
  {
   "cell_type": "code",
   "execution_count": 68,
   "id": "fa6b71bc",
   "metadata": {},
   "outputs": [],
   "source": [
    "animals.remove('Dog')"
   ]
  },
  {
   "cell_type": "code",
   "execution_count": 69,
   "id": "197035d7",
   "metadata": {},
   "outputs": [
    {
     "data": {
      "text/plain": [
       "{'Cat', 'Elephant', 'Lion', 'Tiger'}"
      ]
     },
     "execution_count": 69,
     "metadata": {},
     "output_type": "execute_result"
    }
   ],
   "source": [
    "animals"
   ]
  },
  {
   "cell_type": "markdown",
   "id": "b1c373bd",
   "metadata": {},
   "source": [
    "**Q9. favorite_books = {\"1984\", \"To Kill a Mockingbird\", \"Pride and Prejudice\"}\n",
    "favorite_movies = [\"The Shawshank Redemption\", \"The Godfather\", \"The Dark Knight\"]\n",
    "Use the zip() function to combine the book set and movie list into a list of tuples representing book/\n",
    "movie pairs. Print the resulting list.**"
   ]
  },
  {
   "cell_type": "code",
   "execution_count": 70,
   "id": "f943d911",
   "metadata": {},
   "outputs": [],
   "source": [
    "favorite_books = {\"1984\", \"To Kill a Mockingbird\", \"Pride and Prejudice\"}\n",
    "favorite_movies = [\"The Shawshank Redemption\", \"The Godfather\", \"The Dark Knight\"]"
   ]
  },
  {
   "cell_type": "code",
   "execution_count": 77,
   "id": "f7adf081",
   "metadata": {},
   "outputs": [],
   "source": [
    "combine = list(zip(favorite_books,favorite_movies))"
   ]
  },
  {
   "cell_type": "code",
   "execution_count": 78,
   "id": "1761986c",
   "metadata": {},
   "outputs": [
    {
     "data": {
      "text/plain": [
       "[('Pride and Prejudice', 'The Shawshank Redemption'),\n",
       " ('1984', 'The Godfather'),\n",
       " ('To Kill a Mockingbird', 'The Dark Knight')]"
      ]
     },
     "execution_count": 78,
     "metadata": {},
     "output_type": "execute_result"
    }
   ],
   "source": [
    "combine"
   ]
  },
  {
   "cell_type": "markdown",
   "id": "5d0f5c19",
   "metadata": {},
   "source": [
    "**Q10. Write a Python program to find the difference between consecutive numbers in a list.**"
   ]
  },
  {
   "cell_type": "code",
   "execution_count": 86,
   "id": "e6dde24f",
   "metadata": {},
   "outputs": [],
   "source": [
    "def find_diff_consecutive_numbers(lst):\n",
    "    diffs = []\n",
    "    for i in range(1, len(lst)):\n",
    "        diff = lst[i] - lst[i-1]\n",
    "        diffs.append(diff)\n",
    "        return diffs"
   ]
  },
  {
   "cell_type": "code",
   "execution_count": 87,
   "id": "fb3257e4",
   "metadata": {},
   "outputs": [
    {
     "data": {
      "text/plain": [
       "[4]"
      ]
     },
     "execution_count": 87,
     "metadata": {},
     "output_type": "execute_result"
    }
   ],
   "source": [
    "my_list = [5, 9, 12, 18, 22]\n",
    "\n",
    "\n",
    "find_diff_consecutive_numbers(my_list)"
   ]
  },
  {
   "cell_type": "code",
   "execution_count": null,
   "id": "68f904e5",
   "metadata": {},
   "outputs": [],
   "source": []
  }
 ],
 "metadata": {
  "kernelspec": {
   "display_name": "Python 3 (ipykernel)",
   "language": "python",
   "name": "python3"
  },
  "language_info": {
   "codemirror_mode": {
    "name": "ipython",
    "version": 3
   },
   "file_extension": ".py",
   "mimetype": "text/x-python",
   "name": "python",
   "nbconvert_exporter": "python",
   "pygments_lexer": "ipython3",
   "version": "3.9.16"
  }
 },
 "nbformat": 4,
 "nbformat_minor": 5
}
