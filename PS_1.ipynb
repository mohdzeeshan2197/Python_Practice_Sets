{
 "cells": [
  {
   "cell_type": "markdown",
   "id": "7d467777",
   "metadata": {},
   "source": [
    "**Q1. Write a Python program that defines a function called \"add_numbers\" that takes two arguments (i.e.,\n",
    "numbers) and returns their sum. Within the function, add the two numbers together and return the result\n",
    "using the return statement. Call the function with the values 5 and 6, and print out the returned result.\n",
    "This will result in the addition of 5 and 6, with the output of the program being the sum of these two\n",
    "numbers.**"
   ]
  },
  {
   "cell_type": "code",
   "execution_count": 3,
   "id": "11fd30ba",
   "metadata": {},
   "outputs": [],
   "source": [
    "def add_numbers(a,b):\n",
    "    result = a +b\n",
    "    return result"
   ]
  },
  {
   "cell_type": "code",
   "execution_count": 4,
   "id": "7dfd49e7",
   "metadata": {},
   "outputs": [
    {
     "data": {
      "text/plain": [
       "11"
      ]
     },
     "execution_count": 4,
     "metadata": {},
     "output_type": "execute_result"
    }
   ],
   "source": [
    "add_numbers(5,6)"
   ]
  },
  {
   "cell_type": "markdown",
   "id": "375b0176",
   "metadata": {},
   "source": [
    "**Q2. Write a Python program that calculates the square root of a given number using a built-in function.\n",
    "Specifically, the program should take an integer or float input from the user, calculate its square root\n",
    "using the 'sqrt()' function from the 'math' module, and print out the result to the user. As an example,\n",
    "calculate the square root of the number 625 using this program, which should output the value of 25.**\n"
   ]
  },
  {
   "cell_type": "code",
   "execution_count": 10,
   "id": "35085917",
   "metadata": {},
   "outputs": [
    {
     "name": "stdout",
     "output_type": "stream",
     "text": [
      "Enter A Number For Square root: 625\n",
      "The Square Root of 625 is : 25.0\n"
     ]
    }
   ],
   "source": [
    "import math\n",
    "\n",
    "n = int(input(\"Enter A Number For Square root: \"))\n",
    "\n",
    "sq = math.sqrt(n)\n",
    "print(f\"The Square Root of {n} is :\",sq)\n"
   ]
  },
  {
   "cell_type": "markdown",
   "id": "7617d6c1",
   "metadata": {},
   "source": [
    "**Q3.Write a program that prints all prime numbers between 0 to 50.**"
   ]
  },
  {
   "cell_type": "code",
   "execution_count": 26,
   "id": "311b910d",
   "metadata": {},
   "outputs": [
    {
     "name": "stdout",
     "output_type": "stream",
     "text": [
      "2\n",
      "3\n",
      "5\n",
      "7\n",
      "11\n",
      "13\n",
      "17\n",
      "19\n",
      "23\n",
      "29\n",
      "31\n",
      "37\n",
      "41\n",
      "43\n",
      "47\n"
     ]
    }
   ],
   "source": [
    "for num in range(2,50):\n",
    "    for i in range(2,num):\n",
    "        if (num % i == 0):\n",
    "            break\n",
    "    else:\n",
    "        print(num)\n",
    "            \n",
    "        "
   ]
  },
  {
   "cell_type": "markdown",
   "id": "f8008450",
   "metadata": {},
   "source": [
    "**Q4.How can we swap the values of three variables (let's say a, b, and c) without using a fourth variable?\n",
    "For example, if we have a=5, b=8, and c=9, how can we obtain a=9, b=5, and c=8? The challenge is to\n",
    "perform this operation without using an additional variable to store any of the values during the\n",
    "swapping process.**"
   ]
  },
  {
   "cell_type": "code",
   "execution_count": 32,
   "id": "4ae34034",
   "metadata": {},
   "outputs": [
    {
     "name": "stdout",
     "output_type": "stream",
     "text": [
      "Before Swapping : a 5, b 8, c 9\n",
      "After Swapping : a 9, b 8, c 5\n"
     ]
    }
   ],
   "source": [
    "a = 5\n",
    "b = 8\n",
    "c = 9\n",
    "print(f\"Before Swapping : a {a}, b {b}, c {c}\")\n",
    "\n",
    "c,b,a = 5,8,9\n",
    "\n",
    "print(f\"After Swapping : a {a}, b {b}, c {c}\")\n"
   ]
  },
  {
   "cell_type": "markdown",
   "id": "d538abb7",
   "metadata": {},
   "source": [
    "**Q5. Can you write a program that determines the nature of a given number (in this case, 87) as being\n",
    "positive, negative, or zero? The program should be designed to take the number as input and perform the\n",
    "necessary calculations to determine if the number is positive (i.e., greater than zero), negative (i.e., less\n",
    "than zero), or zero (i.e., equal to zero). The output of the program should indicate which of these three\n",
    "categories the given number falls into.**"
   ]
  },
  {
   "cell_type": "code",
   "execution_count": 49,
   "id": "85f6cb8b",
   "metadata": {},
   "outputs": [
    {
     "name": "stdout",
     "output_type": "stream",
     "text": [
      "Enter A Number To Check: 87\n",
      "The 87 Number is Positive\n"
     ]
    }
   ],
   "source": [
    "n = int(input(\"Enter A Number To Check: \"))\n",
    "\n",
    "if n < 0:\n",
    "    print(f\"The {n} Number is Negative\")\n",
    "elif n > 0 :\n",
    "    print(f\"The {n} Number is Positive\")\n",
    "else:\n",
    "    print(f\"The {n} Number is Zero\")"
   ]
  },
  {
   "cell_type": "markdown",
   "id": "f2c7d9ae",
   "metadata": {},
   "source": [
    "**Q6. How can you create a program that determines whether a given number (in this case, 98) is even or\n",
    "odd? The program should be designed to take the number as input and perform the necessary\n",
    "calculations to determine whether it is divisible by two. If the number is divisible by two without leaving a\n",
    "remainder, it is an even number, and if there is a remainder, it is an odd number. The output of the\n",
    "program should indicate whether the given number is even or odd.**"
   ]
  },
  {
   "cell_type": "code",
   "execution_count": 51,
   "id": "1346ce48",
   "metadata": {},
   "outputs": [
    {
     "name": "stdout",
     "output_type": "stream",
     "text": [
      "Enter a Number :98\n",
      "The Number is Even:  98\n"
     ]
    }
   ],
   "source": [
    "n = int(input(\"Enter a Number :\"))\n",
    "\n",
    "if n % 2 == 0:\n",
    "    print(\"The Number is Even: \",n)\n",
    "else:\n",
    "    print(\"The number is Odd: \",n)"
   ]
  },
  {
   "cell_type": "markdown",
   "id": "368aebec",
   "metadata": {},
   "source": [
    "**Q7.Write a program for sum of digits.the digits are 76543 and the output should be 25.**"
   ]
  },
  {
   "cell_type": "code",
   "execution_count": 22,
   "id": "2c5d32ef",
   "metadata": {},
   "outputs": [
    {
     "name": "stdout",
     "output_type": "stream",
     "text": [
      "25\n"
     ]
    }
   ],
   "source": [
    "n = 76543\n",
    "sum = 0\n",
    "while n > 0:\n",
    "    digit = n % 10              # gives the last digit\n",
    "    sum += digit\n",
    "    n = n //10\n",
    "\n",
    "print(sum)\n",
    "\n",
    "\n",
    "    "
   ]
  },
  {
   "cell_type": "markdown",
   "id": "536c8149",
   "metadata": {},
   "source": [
    "**Q8.Write a program for reversing the given number 5436 and the output should be 6345.**"
   ]
  },
  {
   "cell_type": "code",
   "execution_count": 37,
   "id": "4e9c222f",
   "metadata": {},
   "outputs": [
    {
     "name": "stdout",
     "output_type": "stream",
     "text": [
      "6345\n"
     ]
    }
   ],
   "source": [
    "n = 5436\n",
    "reverse_num = 0\n",
    "while n > 0:\n",
    "    \n",
    "    remainder = n % 10\n",
    "    reverse_num = (reverse_num * 10) + remainder\n",
    "    n = n // 10\n",
    "print(reverse_num)"
   ]
  },
  {
   "cell_type": "markdown",
   "id": "d3ea445d",
   "metadata": {},
   "source": [
    "**Q9.Write a program to check if a given number 371 is an Armstrong number?**"
   ]
  },
  {
   "cell_type": "code",
   "execution_count": 53,
   "id": "054ce77a",
   "metadata": {},
   "outputs": [
    {
     "name": "stdout",
     "output_type": "stream",
     "text": [
      "The Number is Armstrong: 371\n"
     ]
    }
   ],
   "source": [
    "n = 371\n",
    "\n",
    "temp = n\n",
    "s = 0\n",
    "\n",
    "while temp > 0 :\n",
    "    \n",
    "    digit = temp % 10 \n",
    "    cube = digit **3\n",
    "    s += cube\n",
    "    \n",
    "    temp //= 10\n",
    "if s == n :\n",
    "    print(\"The Number is Armstrong:\",n)\n",
    "\n",
    "else:\n",
    "    print(\"The Number is Not a Armstrong Number\", n)\n",
    "\n",
    "          "
   ]
  },
  {
   "cell_type": "markdown",
   "id": "77f62409",
   "metadata": {},
   "source": [
    "**Q10.Write a program the given year is 1996, a leap year.**"
   ]
  },
  {
   "cell_type": "code",
   "execution_count": 70,
   "id": "f746a4af",
   "metadata": {},
   "outputs": [
    {
     "name": "stdout",
     "output_type": "stream",
     "text": [
      "1996 The year is a Leap Year\n"
     ]
    }
   ],
   "source": [
    "year = 1996\n",
    "\n",
    "if (year % 4 == 0 and year % 100 != 0):\n",
    "    print(year,\"The year is a Leap Year\")\n",
    "elif (year % 400 == 0 and year % 100 == 0):\n",
    "    print(year,\"The year is a Leap Year\")\n",
    "else:\n",
    "    print(year,\"Not a Leap year\")"
   ]
  },
  {
   "cell_type": "code",
   "execution_count": null,
   "id": "60051dfe",
   "metadata": {},
   "outputs": [],
   "source": []
  },
  {
   "cell_type": "code",
   "execution_count": null,
   "id": "f8efe533",
   "metadata": {},
   "outputs": [],
   "source": []
  }
 ],
 "metadata": {
  "kernelspec": {
   "display_name": "Python 3 (ipykernel)",
   "language": "python",
   "name": "python3"
  },
  "language_info": {
   "codemirror_mode": {
    "name": "ipython",
    "version": 3
   },
   "file_extension": ".py",
   "mimetype": "text/x-python",
   "name": "python",
   "nbconvert_exporter": "python",
   "pygments_lexer": "ipython3",
   "version": "3.9.16"
  }
 },
 "nbformat": 4,
 "nbformat_minor": 5
}
